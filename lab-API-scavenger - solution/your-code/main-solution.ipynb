{
 "cells": [
  {
   "cell_type": "code",
   "execution_count": 2,
   "metadata": {},
   "outputs": [],
   "source": [
    "import json\n",
    "import requests\n",
    "from pandas.io.json import json_normalize"
   ]
  },
  {
   "cell_type": "markdown",
   "metadata": {},
   "source": [
    "## Challenge 1: Fork Languages\n",
    "You will find out how many programming languages are used among all the forks created from the main lab repo of your bootcamp, assuming the main lab repo is ironhack-datalabs/madrid-oct-2018"
   ]
  },
  {
   "cell_type": "markdown",
   "metadata": {},
   "source": [
    "### 1. Obtain the full list of forks created from the main lab repo via Github API "
   ]
  },
  {
   "cell_type": "code",
   "execution_count": 3,
   "metadata": {},
   "outputs": [],
   "source": [
    "response = requests.get('https://api.github.com/repos/ironhack-datalabs/mad-oct-2018/forks')\n",
    "data = response.json()"
   ]
  },
  {
   "cell_type": "code",
   "execution_count": 4,
   "metadata": {},
   "outputs": [
    {
     "data": {
      "text/html": [
       "<div>\n",
       "<style scoped>\n",
       "    .dataframe tbody tr th:only-of-type {\n",
       "        vertical-align: middle;\n",
       "    }\n",
       "\n",
       "    .dataframe tbody tr th {\n",
       "        vertical-align: top;\n",
       "    }\n",
       "\n",
       "    .dataframe thead th {\n",
       "        text-align: right;\n",
       "    }\n",
       "</style>\n",
       "<table border=\"1\" class=\"dataframe\">\n",
       "  <thead>\n",
       "    <tr style=\"text-align: right;\">\n",
       "      <th></th>\n",
       "      <th>id</th>\n",
       "      <th>node_id</th>\n",
       "      <th>name</th>\n",
       "      <th>full_name</th>\n",
       "      <th>private</th>\n",
       "      <th>html_url</th>\n",
       "      <th>description</th>\n",
       "      <th>fork</th>\n",
       "      <th>url</th>\n",
       "      <th>forks_url</th>\n",
       "      <th>...</th>\n",
       "      <th>owner.events_url</th>\n",
       "      <th>owner.received_events_url</th>\n",
       "      <th>owner.type</th>\n",
       "      <th>owner.site_admin</th>\n",
       "      <th>license.key</th>\n",
       "      <th>license.name</th>\n",
       "      <th>license.spdx_id</th>\n",
       "      <th>license.url</th>\n",
       "      <th>license.node_id</th>\n",
       "      <th>license</th>\n",
       "    </tr>\n",
       "  </thead>\n",
       "  <tbody>\n",
       "    <tr>\n",
       "      <td>0</td>\n",
       "      <td>220066216</td>\n",
       "      <td>MDEwOlJlcG9zaXRvcnkyMjAwNjYyMTY=</td>\n",
       "      <td>mad-oct-2018</td>\n",
       "      <td>ToniPons97/mad-oct-2018</td>\n",
       "      <td>False</td>\n",
       "      <td>https://github.com/ToniPons97/mad-oct-2018</td>\n",
       "      <td>Student labs for Ironhack data analytics bootcamp</td>\n",
       "      <td>True</td>\n",
       "      <td>https://api.github.com/repos/ToniPons97/mad-oc...</td>\n",
       "      <td>https://api.github.com/repos/ToniPons97/mad-oc...</td>\n",
       "      <td>...</td>\n",
       "      <td>https://api.github.com/users/ToniPons97/events...</td>\n",
       "      <td>https://api.github.com/users/ToniPons97/receiv...</td>\n",
       "      <td>User</td>\n",
       "      <td>False</td>\n",
       "      <td>unlicense</td>\n",
       "      <td>The Unlicense</td>\n",
       "      <td>Unlicense</td>\n",
       "      <td>https://api.github.com/licenses/unlicense</td>\n",
       "      <td>MDc6TGljZW5zZTE1</td>\n",
       "      <td>NaN</td>\n",
       "    </tr>\n",
       "    <tr>\n",
       "      <td>1</td>\n",
       "      <td>204100911</td>\n",
       "      <td>MDEwOlJlcG9zaXRvcnkyMDQxMDA5MTE=</td>\n",
       "      <td>mad-oct-2018</td>\n",
       "      <td>rsennes/mad-oct-2018</td>\n",
       "      <td>False</td>\n",
       "      <td>https://github.com/rsennes/mad-oct-2018</td>\n",
       "      <td>Student labs for Ironhack data analytics bootcamp</td>\n",
       "      <td>True</td>\n",
       "      <td>https://api.github.com/repos/rsennes/mad-oct-2018</td>\n",
       "      <td>https://api.github.com/repos/rsennes/mad-oct-2...</td>\n",
       "      <td>...</td>\n",
       "      <td>https://api.github.com/users/rsennes/events{/p...</td>\n",
       "      <td>https://api.github.com/users/rsennes/received_...</td>\n",
       "      <td>User</td>\n",
       "      <td>False</td>\n",
       "      <td>unlicense</td>\n",
       "      <td>The Unlicense</td>\n",
       "      <td>Unlicense</td>\n",
       "      <td>https://api.github.com/licenses/unlicense</td>\n",
       "      <td>MDc6TGljZW5zZTE1</td>\n",
       "      <td>NaN</td>\n",
       "    </tr>\n",
       "    <tr>\n",
       "      <td>2</td>\n",
       "      <td>200138127</td>\n",
       "      <td>MDEwOlJlcG9zaXRvcnkyMDAxMzgxMjc=</td>\n",
       "      <td>mad-oct-2018</td>\n",
       "      <td>gggfaria/mad-oct-2018</td>\n",
       "      <td>False</td>\n",
       "      <td>https://github.com/gggfaria/mad-oct-2018</td>\n",
       "      <td>Student labs for Ironhack data analytics bootcamp</td>\n",
       "      <td>True</td>\n",
       "      <td>https://api.github.com/repos/gggfaria/mad-oct-...</td>\n",
       "      <td>https://api.github.com/repos/gggfaria/mad-oct-...</td>\n",
       "      <td>...</td>\n",
       "      <td>https://api.github.com/users/gggfaria/events{/...</td>\n",
       "      <td>https://api.github.com/users/gggfaria/received...</td>\n",
       "      <td>User</td>\n",
       "      <td>False</td>\n",
       "      <td>unlicense</td>\n",
       "      <td>The Unlicense</td>\n",
       "      <td>Unlicense</td>\n",
       "      <td>https://api.github.com/licenses/unlicense</td>\n",
       "      <td>MDc6TGljZW5zZTE1</td>\n",
       "      <td>NaN</td>\n",
       "    </tr>\n",
       "    <tr>\n",
       "      <td>3</td>\n",
       "      <td>198273438</td>\n",
       "      <td>MDEwOlJlcG9zaXRvcnkxOTgyNzM0Mzg=</td>\n",
       "      <td>mad-oct-2018</td>\n",
       "      <td>nancyulric/mad-oct-2018</td>\n",
       "      <td>False</td>\n",
       "      <td>https://github.com/nancyulric/mad-oct-2018</td>\n",
       "      <td>Student labs for Ironhack data analytics bootcamp</td>\n",
       "      <td>True</td>\n",
       "      <td>https://api.github.com/repos/nancyulric/mad-oc...</td>\n",
       "      <td>https://api.github.com/repos/nancyulric/mad-oc...</td>\n",
       "      <td>...</td>\n",
       "      <td>https://api.github.com/users/nancyulric/events...</td>\n",
       "      <td>https://api.github.com/users/nancyulric/receiv...</td>\n",
       "      <td>User</td>\n",
       "      <td>False</td>\n",
       "      <td>unlicense</td>\n",
       "      <td>The Unlicense</td>\n",
       "      <td>Unlicense</td>\n",
       "      <td>https://api.github.com/licenses/unlicense</td>\n",
       "      <td>MDc6TGljZW5zZTE1</td>\n",
       "      <td>NaN</td>\n",
       "    </tr>\n",
       "    <tr>\n",
       "      <td>4</td>\n",
       "      <td>167001044</td>\n",
       "      <td>MDEwOlJlcG9zaXRvcnkxNjcwMDEwNDQ=</td>\n",
       "      <td>datamad0119</td>\n",
       "      <td>lmartinezruizit/datamad0119</td>\n",
       "      <td>False</td>\n",
       "      <td>https://github.com/lmartinezruizit/datamad0119</td>\n",
       "      <td>Student labs for Ironhack data analytics bootcamp</td>\n",
       "      <td>True</td>\n",
       "      <td>https://api.github.com/repos/lmartinezruizit/d...</td>\n",
       "      <td>https://api.github.com/repos/lmartinezruizit/d...</td>\n",
       "      <td>...</td>\n",
       "      <td>https://api.github.com/users/lmartinezruizit/e...</td>\n",
       "      <td>https://api.github.com/users/lmartinezruizit/r...</td>\n",
       "      <td>User</td>\n",
       "      <td>False</td>\n",
       "      <td>unlicense</td>\n",
       "      <td>The Unlicense</td>\n",
       "      <td>Unlicense</td>\n",
       "      <td>https://api.github.com/licenses/unlicense</td>\n",
       "      <td>MDc6TGljZW5zZTE1</td>\n",
       "      <td>NaN</td>\n",
       "    </tr>\n",
       "  </tbody>\n",
       "</table>\n",
       "<p>5 rows × 95 columns</p>\n",
       "</div>"
      ],
      "text/plain": [
       "          id                           node_id          name  \\\n",
       "0  220066216  MDEwOlJlcG9zaXRvcnkyMjAwNjYyMTY=  mad-oct-2018   \n",
       "1  204100911  MDEwOlJlcG9zaXRvcnkyMDQxMDA5MTE=  mad-oct-2018   \n",
       "2  200138127  MDEwOlJlcG9zaXRvcnkyMDAxMzgxMjc=  mad-oct-2018   \n",
       "3  198273438  MDEwOlJlcG9zaXRvcnkxOTgyNzM0Mzg=  mad-oct-2018   \n",
       "4  167001044  MDEwOlJlcG9zaXRvcnkxNjcwMDEwNDQ=   datamad0119   \n",
       "\n",
       "                     full_name  private  \\\n",
       "0      ToniPons97/mad-oct-2018    False   \n",
       "1         rsennes/mad-oct-2018    False   \n",
       "2        gggfaria/mad-oct-2018    False   \n",
       "3      nancyulric/mad-oct-2018    False   \n",
       "4  lmartinezruizit/datamad0119    False   \n",
       "\n",
       "                                         html_url  \\\n",
       "0      https://github.com/ToniPons97/mad-oct-2018   \n",
       "1         https://github.com/rsennes/mad-oct-2018   \n",
       "2        https://github.com/gggfaria/mad-oct-2018   \n",
       "3      https://github.com/nancyulric/mad-oct-2018   \n",
       "4  https://github.com/lmartinezruizit/datamad0119   \n",
       "\n",
       "                                         description  fork  \\\n",
       "0  Student labs for Ironhack data analytics bootcamp  True   \n",
       "1  Student labs for Ironhack data analytics bootcamp  True   \n",
       "2  Student labs for Ironhack data analytics bootcamp  True   \n",
       "3  Student labs for Ironhack data analytics bootcamp  True   \n",
       "4  Student labs for Ironhack data analytics bootcamp  True   \n",
       "\n",
       "                                                 url  \\\n",
       "0  https://api.github.com/repos/ToniPons97/mad-oc...   \n",
       "1  https://api.github.com/repos/rsennes/mad-oct-2018   \n",
       "2  https://api.github.com/repos/gggfaria/mad-oct-...   \n",
       "3  https://api.github.com/repos/nancyulric/mad-oc...   \n",
       "4  https://api.github.com/repos/lmartinezruizit/d...   \n",
       "\n",
       "                                           forks_url  ...  \\\n",
       "0  https://api.github.com/repos/ToniPons97/mad-oc...  ...   \n",
       "1  https://api.github.com/repos/rsennes/mad-oct-2...  ...   \n",
       "2  https://api.github.com/repos/gggfaria/mad-oct-...  ...   \n",
       "3  https://api.github.com/repos/nancyulric/mad-oc...  ...   \n",
       "4  https://api.github.com/repos/lmartinezruizit/d...  ...   \n",
       "\n",
       "                                    owner.events_url  \\\n",
       "0  https://api.github.com/users/ToniPons97/events...   \n",
       "1  https://api.github.com/users/rsennes/events{/p...   \n",
       "2  https://api.github.com/users/gggfaria/events{/...   \n",
       "3  https://api.github.com/users/nancyulric/events...   \n",
       "4  https://api.github.com/users/lmartinezruizit/e...   \n",
       "\n",
       "                           owner.received_events_url owner.type  \\\n",
       "0  https://api.github.com/users/ToniPons97/receiv...       User   \n",
       "1  https://api.github.com/users/rsennes/received_...       User   \n",
       "2  https://api.github.com/users/gggfaria/received...       User   \n",
       "3  https://api.github.com/users/nancyulric/receiv...       User   \n",
       "4  https://api.github.com/users/lmartinezruizit/r...       User   \n",
       "\n",
       "  owner.site_admin license.key   license.name license.spdx_id  \\\n",
       "0            False   unlicense  The Unlicense       Unlicense   \n",
       "1            False   unlicense  The Unlicense       Unlicense   \n",
       "2            False   unlicense  The Unlicense       Unlicense   \n",
       "3            False   unlicense  The Unlicense       Unlicense   \n",
       "4            False   unlicense  The Unlicense       Unlicense   \n",
       "\n",
       "                                 license.url   license.node_id license  \n",
       "0  https://api.github.com/licenses/unlicense  MDc6TGljZW5zZTE1     NaN  \n",
       "1  https://api.github.com/licenses/unlicense  MDc6TGljZW5zZTE1     NaN  \n",
       "2  https://api.github.com/licenses/unlicense  MDc6TGljZW5zZTE1     NaN  \n",
       "3  https://api.github.com/licenses/unlicense  MDc6TGljZW5zZTE1     NaN  \n",
       "4  https://api.github.com/licenses/unlicense  MDc6TGljZW5zZTE1     NaN  \n",
       "\n",
       "[5 rows x 95 columns]"
      ]
     },
     "execution_count": 4,
     "metadata": {},
     "output_type": "execute_result"
    }
   ],
   "source": [
    "forks_list = json_normalize(data)\n",
    "forks_list.head()"
   ]
  },
  {
   "cell_type": "markdown",
   "metadata": {},
   "source": [
    "### 2. Loop the JSON response to find out the language attribute of each fork\n",
    "Use an array to store the language attributes of each fork "
   ]
  },
  {
   "cell_type": "code",
   "execution_count": 5,
   "metadata": {},
   "outputs": [
    {
     "name": "stdout",
     "output_type": "stream",
     "text": [
      "[None, 'Jupyter Notebook', 'HTML', 'Python']\n"
     ]
    }
   ],
   "source": [
    "languages = list(forks_list.language.unique())\n",
    "print(languages)"
   ]
  },
  {
   "cell_type": "markdown",
   "metadata": {
    "collapsed": true
   },
   "source": [
    "## Challenge 2: Count Commits"
   ]
  },
  {
   "cell_type": "markdown",
   "metadata": {},
   "source": [
    "### 1. Obtain all the commits made in the past week via API, which is a JSON array that contains multiple commit objects"
   ]
  },
  {
   "cell_type": "code",
   "execution_count": 4,
   "metadata": {},
   "outputs": [
    {
     "data": {
      "text/plain": [
       "0     2019-08-19T11:11:36Z\n",
       "1     2019-03-07T15:49:16Z\n",
       "2     2019-03-07T15:38:52Z\n",
       "3     2019-01-18T18:28:33Z\n",
       "4     2019-01-17T21:59:35Z\n",
       "5     2019-01-17T06:33:16Z\n",
       "6     2019-01-17T06:28:16Z\n",
       "7     2019-01-17T06:24:01Z\n",
       "8     2019-01-16T23:20:01Z\n",
       "9     2019-01-16T22:24:40Z\n",
       "10    2019-01-16T22:24:35Z\n",
       "Name: commit.author.date, dtype: object"
      ]
     },
     "execution_count": 4,
     "metadata": {},
     "output_type": "execute_result"
    }
   ],
   "source": [
    "response = requests.get('https://api.github.com/repos/ironhack-datalabs/mad-oct-2018/commits?since=2019-15-01T00:00:00Z')\n",
    "data = response.json()\n",
    "commits = json_normalize(data)\n",
    "commits['commit.author.date']"
   ]
  },
  {
   "cell_type": "markdown",
   "metadata": {},
   "source": [
    "### 2. Count how many commit objects are contained in the array "
   ]
  },
  {
   "cell_type": "code",
   "execution_count": 7,
   "metadata": {},
   "outputs": [
    {
     "data": {
      "text/plain": [
       "11"
      ]
     },
     "execution_count": 7,
     "metadata": {},
     "output_type": "execute_result"
    }
   ],
   "source": [
    "len(commits)"
   ]
  },
  {
   "cell_type": "markdown",
   "metadata": {},
   "source": [
    "## Challenge 3: Hidden Cold Joke "
   ]
  },
  {
   "cell_type": "markdown",
   "metadata": {},
   "source": [
    "Using Python, call Github API to find out the cold joke contained in the 24 secret files in the following repo:\n",
    "\n",
    "https://github.com/ironhack-datalabs/scavenger\n",
    "\n",
    "The filenames of the secret files contain .scavengerhunt and they are scattered in different directories of this repo. The secret files are named from .0001.scavengerhunt to .0024.scavengerhunt. "
   ]
  },
  {
   "cell_type": "markdown",
   "metadata": {},
   "source": [
    "### 1. Find secret files "
   ]
  },
  {
   "cell_type": "code",
   "execution_count": 9,
   "metadata": {},
   "outputs": [],
   "source": [
    "response = requests.get('https://api.github.com/search/code?q=.scavengerhunt in:path+repo:ironhack-datalabs/scavenger')\n",
    "files_search = response.json()"
   ]
  },
  {
   "cell_type": "markdown",
   "metadata": {},
   "source": [
    "### 2. Sort the filenames ascendingly "
   ]
  },
  {
   "cell_type": "code",
   "execution_count": 10,
   "metadata": {},
   "outputs": [],
   "source": [
    "files = files_search['items']\n",
    "files = sorted(files, key=lambda file: file['name'])"
   ]
  },
  {
   "cell_type": "markdown",
   "metadata": {},
   "source": [
    "### 3. Read the content of each secret files into an array of strings"
   ]
  },
  {
   "cell_type": "code",
   "execution_count": 11,
   "metadata": {},
   "outputs": [],
   "source": [
    "content_list = []\n",
    "headers = {'Accept': 'application/vnd.github.v3.raw', }"
   ]
  },
  {
   "cell_type": "code",
   "execution_count": 12,
   "metadata": {},
   "outputs": [],
   "source": [
    "for file in files:\n",
    "    content_path = 'https://api.github.com/repos/ironhack-datalabs/scavenger/contents/{}'.format(file['path'])\n",
    "    response = requests.get(content_path, headers=headers)\n",
    "    content_list.append(response.text)"
   ]
  },
  {
   "cell_type": "markdown",
   "metadata": {},
   "source": [
    "### 4. Concatenate the strings in the array separating each two with a whitespace "
   ]
  },
  {
   "cell_type": "code",
   "execution_count": 13,
   "metadata": {},
   "outputs": [],
   "source": [
    "content = [w.strip('\\n') for w in content_list]\n",
    "joke = \" \".join(content)"
   ]
  },
  {
   "cell_type": "markdown",
   "metadata": {},
   "source": [
    "### 5. Print out the joke "
   ]
  },
  {
   "cell_type": "code",
   "execution_count": 14,
   "metadata": {},
   "outputs": [
    {
     "name": "stdout",
     "output_type": "stream",
     "text": [
      "In data science, 80 percent of time spent is preparing data, 20 percent of time is spent complaining about the need to prepare data.\n"
     ]
    }
   ],
   "source": [
    "print(joke)"
   ]
  }
 ],
 "metadata": {
  "kernelspec": {
   "display_name": "Python 3",
   "language": "python",
   "name": "python3"
  },
  "language_info": {
   "codemirror_mode": {
    "name": "ipython",
    "version": 3
   },
   "file_extension": ".py",
   "mimetype": "text/x-python",
   "name": "python",
   "nbconvert_exporter": "python",
   "pygments_lexer": "ipython3",
   "version": "3.7.4"
  }
 },
 "nbformat": 4,
 "nbformat_minor": 2
}
